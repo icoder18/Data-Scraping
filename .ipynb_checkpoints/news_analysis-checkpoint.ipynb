{
 "cells": [
  {
   "cell_type": "markdown",
   "metadata": {},
   "source": [
    "# News Crawler"
   ]
  },
  {
   "cell_type": "code",
   "execution_count": 2,
   "metadata": {},
   "outputs": [],
   "source": [
    "filename = 'news_ndtv.csv'\n",
    "headr = ['title','date','time','article','location','tags']"
   ]
  },
  {
   "cell_type": "code",
   "execution_count": 3,
   "metadata": {},
   "outputs": [],
   "source": [
    "import csv"
   ]
  },
  {
   "cell_type": "code",
   "execution_count": 6,
   "metadata": {},
   "outputs": [],
   "source": [
    "import requests\n",
    "from bs4 import BeautifulSoup"
   ]
  },
  {
   "cell_type": "markdown",
   "metadata": {},
   "source": [
    "## Scraping World, India and City News"
   ]
  },
  {
   "cell_type": "code",
   "execution_count": 7,
   "metadata": {},
   "outputs": [],
   "source": [
    "URLS = [\"https://www.ndtv.com/world\",\"https://www.ndtv.com/india\",\"https://www.ndtv.com/cities\"]"
   ]
  },
  {
   "cell_type": "code",
   "execution_count": 9,
   "metadata": {},
   "outputs": [],
   "source": [
    "for u in URLS:\n",
    "    #Since only 14 pages exist at the maximum on the website\n",
    "    for i in range (14):\n",
    "        URL = \"\".join(u+'/page-'+str(i+1))\n",
    "        R = requests.get(URL)\n",
    "        SOUP = BeautifulSoup(R.content)\n",
    "        story_div = SOUP.findAll('div',{'class':'new_storylising_img'})\n",
    "    \n",
    "        for ix in story_div:\n",
    "            url = ix.a.attrs['href']\n",
    "            r = requests.get(url)\n",
    "            soup = BeautifulSoup(r.content)\n",
    "    \n",
    "            #Get all the information\n",
    "            h = soup.h1.text\n",
    "    \n",
    "            dt = soup.find('span',itemprop=\"dateModified\").text\n",
    "            d =dt.split(\" \")[1:4]\n",
    "            d = \" \".join(d)\n",
    "            t = dt.split(\" \")[4:7]\n",
    "            t = \" \".join(t)\n",
    "\n",
    "            article = soup.find('div',{'class':'sp-ttl-wrp'})\n",
    "            article = soup.findAll('p')\n",
    "            article = article[1:-4]\n",
    "            at=\"\"\n",
    "            for i in article:\n",
    "                at+=i.text\n",
    "\n",
    "            b = soup.find('b',{'class':'place_cont'})\n",
    "            if b:\n",
    "                b = b.text\n",
    "                loc = b[:-2]\n",
    "            else:\n",
    "                loc = 'None'\n",
    "\n",
    "            tgs = soup.findAll('a',{'class':'tg_lk'})\n",
    "            tags_list = []\n",
    "            for tg in tgs:\n",
    "                tags_list.append(tg.text)    \n",
    "            tags_list = \",\".join(str(il) for il in tags_list)\n",
    "\n",
    "            dictionary={'title':h,'date':d,'time':t,'article':at,'location':loc,'tags':tags_list}\n",
    "\n",
    "            with open (filename,'a',encoding='utf-8') as f:\n",
    "                writer = csv.DictWriter(f, fieldnames = headr) \n",
    "                writer.writerow(dictionary) "
   ]
  },
  {
   "cell_type": "code",
   "execution_count": 10,
   "metadata": {},
   "outputs": [],
   "source": [
    "import pandas as pd"
   ]
  },
  {
   "cell_type": "code",
   "execution_count": 11,
   "metadata": {},
   "outputs": [],
   "source": [
    "df = pd.read_csv(\"news_ndtv.csv\")\n",
    "df.to_csv(\"news_ndtv.csv\",header=headr,index=False)"
   ]
  },
  {
   "cell_type": "code",
   "execution_count": 12,
   "metadata": {},
   "outputs": [
    {
     "data": {
      "text/html": [
       "<div>\n",
       "<style scoped>\n",
       "    .dataframe tbody tr th:only-of-type {\n",
       "        vertical-align: middle;\n",
       "    }\n",
       "\n",
       "    .dataframe tbody tr th {\n",
       "        vertical-align: top;\n",
       "    }\n",
       "\n",
       "    .dataframe thead th {\n",
       "        text-align: right;\n",
       "    }\n",
       "</style>\n",
       "<table border=\"1\" class=\"dataframe\">\n",
       "  <thead>\n",
       "    <tr style=\"text-align: right;\">\n",
       "      <th></th>\n",
       "      <th>title</th>\n",
       "      <th>date</th>\n",
       "      <th>time</th>\n",
       "      <th>article</th>\n",
       "      <th>location</th>\n",
       "      <th>tags</th>\n",
       "    </tr>\n",
       "  </thead>\n",
       "  <tbody>\n",
       "    <tr>\n",
       "      <th>0</th>\n",
       "      <td>India, US Sign Statement Of Intent To Strengt...</td>\n",
       "      <td>September 16, 2020</td>\n",
       "      <td>1:59 am IST</td>\n",
       "      <td>India and the United States on Tuesday signed ...</td>\n",
       "      <td>Washington</td>\n",
       "      <td>India US relations,Defence Tech Cooperation</td>\n",
       "    </tr>\n",
       "    <tr>\n",
       "      <th>1</th>\n",
       "      <td>\"Lost His Mental Stability\": Kerala Chief Min...</td>\n",
       "      <td>September 16, 2020</td>\n",
       "      <td>1:38 am IST</td>\n",
       "      <td>Kerala Chief Minister Pinarayi Vijayan on Tues...</td>\n",
       "      <td>Thiruvananthapuram</td>\n",
       "      <td>Pinarayi Vijayan,K Surendran</td>\n",
       "    </tr>\n",
       "    <tr>\n",
       "      <th>2</th>\n",
       "      <td>Ordered Probe Into Army Veteran's Assault In ...</td>\n",
       "      <td>September 16, 2020</td>\n",
       "      <td>1:24 am IST</td>\n",
       "      <td>Maharashtra Home Minister Anil Deshmukh on Tue...</td>\n",
       "      <td>Mumbai (Maharashtra)</td>\n",
       "      <td>Anil Deshmukh,Maharashtra</td>\n",
       "    </tr>\n",
       "    <tr>\n",
       "      <th>3</th>\n",
       "      <td>UK Restores 3 Idols Stolen From Tamil Nadu Te...</td>\n",
       "      <td>September 16, 2020</td>\n",
       "      <td>1:20 am IST</td>\n",
       "      <td>A set of three idols of Lord Rama, Sita and La...</td>\n",
       "      <td>London</td>\n",
       "      <td>Tamil Nadu,UK</td>\n",
       "    </tr>\n",
       "    <tr>\n",
       "      <th>4</th>\n",
       "      <td>\"Where Is Prime Minister?\" Congress Attacks C...</td>\n",
       "      <td>September 16, 2020</td>\n",
       "      <td>1:13 am IST</td>\n",
       "      <td>Members of the Congress walked out of the Lok ...</td>\n",
       "      <td>New Delhi</td>\n",
       "      <td>Congress,Parliament,Narendra Modi</td>\n",
       "    </tr>\n",
       "  </tbody>\n",
       "</table>\n",
       "</div>"
      ],
      "text/plain": [
       "                                               title                date  \\\n",
       "0   India, US Sign Statement Of Intent To Strengt...  September 16, 2020   \n",
       "1   \"Lost His Mental Stability\": Kerala Chief Min...  September 16, 2020   \n",
       "2   Ordered Probe Into Army Veteran's Assault In ...  September 16, 2020   \n",
       "3   UK Restores 3 Idols Stolen From Tamil Nadu Te...  September 16, 2020   \n",
       "4   \"Where Is Prime Minister?\" Congress Attacks C...  September 16, 2020   \n",
       "\n",
       "          time                                            article  \\\n",
       "0  1:59 am IST  India and the United States on Tuesday signed ...   \n",
       "1  1:38 am IST  Kerala Chief Minister Pinarayi Vijayan on Tues...   \n",
       "2  1:24 am IST  Maharashtra Home Minister Anil Deshmukh on Tue...   \n",
       "3  1:20 am IST  A set of three idols of Lord Rama, Sita and La...   \n",
       "4  1:13 am IST  Members of the Congress walked out of the Lok ...   \n",
       "\n",
       "               location                                         tags  \n",
       "0            Washington  India US relations,Defence Tech Cooperation  \n",
       "1    Thiruvananthapuram                 Pinarayi Vijayan,K Surendran  \n",
       "2  Mumbai (Maharashtra)                    Anil Deshmukh,Maharashtra  \n",
       "3                London                                Tamil Nadu,UK  \n",
       "4             New Delhi            Congress,Parliament,Narendra Modi  "
      ]
     },
     "execution_count": 12,
     "metadata": {},
     "output_type": "execute_result"
    }
   ],
   "source": [
    "data =  pd.read_csv(\"news_ndtv.csv\")\n",
    "data.head()"
   ]
  },
  {
   "cell_type": "code",
   "execution_count": 13,
   "metadata": {},
   "outputs": [
    {
     "name": "stdout",
     "output_type": "stream",
     "text": [
      "<class 'pandas.core.frame.DataFrame'>\n",
      "RangeIndex: 399 entries, 0 to 398\n",
      "Data columns (total 6 columns):\n",
      " #   Column    Non-Null Count  Dtype \n",
      "---  ------    --------------  ----- \n",
      " 0   title     399 non-null    object\n",
      " 1   date      399 non-null    object\n",
      " 2   time      399 non-null    object\n",
      " 3   article   399 non-null    object\n",
      " 4   location  399 non-null    object\n",
      " 5   tags      397 non-null    object\n",
      "dtypes: object(6)\n",
      "memory usage: 18.8+ KB\n"
     ]
    }
   ],
   "source": [
    "data.info()"
   ]
  },
  {
   "cell_type": "markdown",
   "metadata": {},
   "source": [
    "# Exploratory Data Analysis"
   ]
  },
  {
   "cell_type": "code",
   "execution_count": 14,
   "metadata": {},
   "outputs": [],
   "source": [
    "import numpy as np\n",
    "import matplotlib.pyplot as plt"
   ]
  },
  {
   "cell_type": "markdown",
   "metadata": {},
   "source": [
    "## Topic Modelling- using LDA and generating word cloud "
   ]
  },
  {
   "cell_type": "code",
   "execution_count": 15,
   "metadata": {},
   "outputs": [],
   "source": [
    "import re\n",
    "\n",
    "data_new = data\n",
    "\n",
    "#Remove punctuation\n",
    "data_new['title_processed'] = data_new['title'].map(lambda x:re.sub('[,\\.!?]','',x))\n",
    "\n",
    "#Convert title to lowercase\n",
    "data_new['title_processed'] = data_new['title_processed'].map(lambda x:x.lower())\n"
   ]
  },
  {
   "cell_type": "code",
   "execution_count": 16,
   "metadata": {},
   "outputs": [
    {
     "data": {
      "text/html": [
       "<div>\n",
       "<style scoped>\n",
       "    .dataframe tbody tr th:only-of-type {\n",
       "        vertical-align: middle;\n",
       "    }\n",
       "\n",
       "    .dataframe tbody tr th {\n",
       "        vertical-align: top;\n",
       "    }\n",
       "\n",
       "    .dataframe thead th {\n",
       "        text-align: right;\n",
       "    }\n",
       "</style>\n",
       "<table border=\"1\" class=\"dataframe\">\n",
       "  <thead>\n",
       "    <tr style=\"text-align: right;\">\n",
       "      <th></th>\n",
       "      <th>title</th>\n",
       "      <th>date</th>\n",
       "      <th>time</th>\n",
       "      <th>article</th>\n",
       "      <th>location</th>\n",
       "      <th>tags</th>\n",
       "      <th>title_processed</th>\n",
       "    </tr>\n",
       "  </thead>\n",
       "  <tbody>\n",
       "    <tr>\n",
       "      <th>0</th>\n",
       "      <td>India, US Sign Statement Of Intent To Strengt...</td>\n",
       "      <td>September 16, 2020</td>\n",
       "      <td>1:59 am IST</td>\n",
       "      <td>India and the United States on Tuesday signed ...</td>\n",
       "      <td>Washington</td>\n",
       "      <td>India US relations,Defence Tech Cooperation</td>\n",
       "      <td>india us sign statement of intent to strength...</td>\n",
       "    </tr>\n",
       "    <tr>\n",
       "      <th>1</th>\n",
       "      <td>\"Lost His Mental Stability\": Kerala Chief Min...</td>\n",
       "      <td>September 16, 2020</td>\n",
       "      <td>1:38 am IST</td>\n",
       "      <td>Kerala Chief Minister Pinarayi Vijayan on Tues...</td>\n",
       "      <td>Thiruvananthapuram</td>\n",
       "      <td>Pinarayi Vijayan,K Surendran</td>\n",
       "      <td>\"lost his mental stability\": kerala chief min...</td>\n",
       "    </tr>\n",
       "    <tr>\n",
       "      <th>2</th>\n",
       "      <td>Ordered Probe Into Army Veteran's Assault In ...</td>\n",
       "      <td>September 16, 2020</td>\n",
       "      <td>1:24 am IST</td>\n",
       "      <td>Maharashtra Home Minister Anil Deshmukh on Tue...</td>\n",
       "      <td>Mumbai (Maharashtra)</td>\n",
       "      <td>Anil Deshmukh,Maharashtra</td>\n",
       "      <td>ordered probe into army veteran's assault in ...</td>\n",
       "    </tr>\n",
       "    <tr>\n",
       "      <th>3</th>\n",
       "      <td>UK Restores 3 Idols Stolen From Tamil Nadu Te...</td>\n",
       "      <td>September 16, 2020</td>\n",
       "      <td>1:20 am IST</td>\n",
       "      <td>A set of three idols of Lord Rama, Sita and La...</td>\n",
       "      <td>London</td>\n",
       "      <td>Tamil Nadu,UK</td>\n",
       "      <td>uk restores 3 idols stolen from tamil nadu te...</td>\n",
       "    </tr>\n",
       "    <tr>\n",
       "      <th>4</th>\n",
       "      <td>\"Where Is Prime Minister?\" Congress Attacks C...</td>\n",
       "      <td>September 16, 2020</td>\n",
       "      <td>1:13 am IST</td>\n",
       "      <td>Members of the Congress walked out of the Lok ...</td>\n",
       "      <td>New Delhi</td>\n",
       "      <td>Congress,Parliament,Narendra Modi</td>\n",
       "      <td>\"where is prime minister\" congress attacks ce...</td>\n",
       "    </tr>\n",
       "  </tbody>\n",
       "</table>\n",
       "</div>"
      ],
      "text/plain": [
       "                                               title                date  \\\n",
       "0   India, US Sign Statement Of Intent To Strengt...  September 16, 2020   \n",
       "1   \"Lost His Mental Stability\": Kerala Chief Min...  September 16, 2020   \n",
       "2   Ordered Probe Into Army Veteran's Assault In ...  September 16, 2020   \n",
       "3   UK Restores 3 Idols Stolen From Tamil Nadu Te...  September 16, 2020   \n",
       "4   \"Where Is Prime Minister?\" Congress Attacks C...  September 16, 2020   \n",
       "\n",
       "          time                                            article  \\\n",
       "0  1:59 am IST  India and the United States on Tuesday signed ...   \n",
       "1  1:38 am IST  Kerala Chief Minister Pinarayi Vijayan on Tues...   \n",
       "2  1:24 am IST  Maharashtra Home Minister Anil Deshmukh on Tue...   \n",
       "3  1:20 am IST  A set of three idols of Lord Rama, Sita and La...   \n",
       "4  1:13 am IST  Members of the Congress walked out of the Lok ...   \n",
       "\n",
       "               location                                         tags  \\\n",
       "0            Washington  India US relations,Defence Tech Cooperation   \n",
       "1    Thiruvananthapuram                 Pinarayi Vijayan,K Surendran   \n",
       "2  Mumbai (Maharashtra)                    Anil Deshmukh,Maharashtra   \n",
       "3                London                                Tamil Nadu,UK   \n",
       "4             New Delhi            Congress,Parliament,Narendra Modi   \n",
       "\n",
       "                                     title_processed  \n",
       "0   india us sign statement of intent to strength...  \n",
       "1   \"lost his mental stability\": kerala chief min...  \n",
       "2   ordered probe into army veteran's assault in ...  \n",
       "3   uk restores 3 idols stolen from tamil nadu te...  \n",
       "4   \"where is prime minister\" congress attacks ce...  "
      ]
     },
     "execution_count": 16,
     "metadata": {},
     "output_type": "execute_result"
    }
   ],
   "source": [
    "data_new.head()"
   ]
  },
  {
   "cell_type": "code",
   "execution_count": 17,
   "metadata": {},
   "outputs": [],
   "source": [
    "data_new.drop(columns='title',inplace=True)"
   ]
  },
  {
   "cell_type": "code",
   "execution_count": 18,
   "metadata": {},
   "outputs": [],
   "source": [
    "from wordcloud import WordCloud"
   ]
  },
  {
   "cell_type": "code",
   "execution_count": 19,
   "metadata": {},
   "outputs": [],
   "source": [
    "#Join titles together\n",
    "all_news_titles = ','.join(list(data_new['title_processed'].values))"
   ]
  },
  {
   "cell_type": "code",
   "execution_count": 20,
   "metadata": {},
   "outputs": [
    {
     "data": {
      "image/png": "[encoded data removed]",
      "text/plain": [
       "<PIL.Image.Image image mode=RGB size=400x200 at 0x2DE58FC8A20>"
      ]
     },
     "execution_count": 20,
     "metadata": {},
     "output_type": "execute_result"
    }
   ],
   "source": [
    "wcloud = WordCloud(background_color='white',max_words=200,\n",
    "                   contour_width=3,contour_color='steelblue')\n",
    "\n",
    "wcloud.generate(all_news_titles)\n",
    "wcloud.to_image()"
   ]
  },
  {
   "cell_type": "code",
   "execution_count": 21,
   "metadata": {},
   "outputs": [],
   "source": [
    "from sklearn.feature_extraction.text import CountVectorizer\n",
    "import seaborn as sns\n",
    "sns.set_style('whitegrid')\n",
    "%matplotlib inline"
   ]
  },
  {
   "cell_type": "code",
   "execution_count": 22,
   "metadata": {},
   "outputs": [],
   "source": [
    "count_vec = CountVectorizer(stop_words='english')\n",
    "counts = count_vec.fit_transform(data_new['title_processed'])"
   ]
  },
  {
   "cell_type": "code",
   "execution_count": 23,
   "metadata": {},
   "outputs": [],
   "source": [
    "#Visualizing the 10 most common words\n",
    "#helper func\n",
    "def plot_top_words(counts,count_vec):\n",
    "    words = count_vec.get_feature_names()\n",
    "    total_cnt = np.zeros(len(words))\n",
    "    for t in counts:\n",
    "        total_cnt+=t.toarray()[0]\n",
    "        \n",
    "    count_dict = (zip(words,total_cnt))\n",
    "    count_dict = sorted(count_dict,key= lambda x:x[1],reverse=True)[0:10]\n",
    "    words = [w[0] for w in count_dict]\n",
    "    counts = [w[1] for w in count_dict]\n",
    "    x_pos = np.arange(len(words))\n",
    "    \n",
    "    plt.figure(2,figsize=(15,8))\n",
    "    plt.subplot(title='10 most common words')\n",
    "    sns.set_context('notebook',font_scale=1.25,rc={'lines.linewidth':2.5})\n",
    "    sns.barplot(x_pos,counts,palette='husl')\n",
    "    plt.xticks(x_pos,words,rotation=90)\n",
    "    plt.xlabel('words')\n",
    "    plt.ylabel('counts')\n",
    "    plt.show()"
   ]
  },
  {
   "cell_type": "code",
   "execution_count": 24,
   "metadata": {},
   "outputs": [
    {
     "data": {
      "image/png": "[encoded data removed]",
      "text/plain": [
       "<Figure size 1080x576 with 1 Axes>"
      ]
     },
     "metadata": {
      "needs_background": "light"
     },
     "output_type": "display_data"
    }
   ],
   "source": [
    "plot_top_words(counts,count_vec)"
   ]
  },
  {
   "cell_type": "code",
   "execution_count": 25,
   "metadata": {},
   "outputs": [],
   "source": [
    "from sklearn.decomposition import LatentDirichletAllocation as LDA"
   ]
  },
  {
   "cell_type": "code",
   "execution_count": 26,
   "metadata": {},
   "outputs": [],
   "source": [
    "def print_topics(model,count_vec,n_top_words):\n",
    "    words = count_vec.get_feature_names()\n",
    "    for ix,topic in enumerate(model.components_):\n",
    "        print(\"\\nTopic #%d\"%ix)\n",
    "        print(\" \".join([words[i] for i in topic.argsort()[:-n_top_words-1:-1]]))"
   ]
  },
  {
   "cell_type": "code",
   "execution_count": 27,
   "metadata": {},
   "outputs": [],
   "source": [
    "number_topics = 10\n",
    "number_words = 4"
   ]
  },
  {
   "cell_type": "code",
   "execution_count": 28,
   "metadata": {},
   "outputs": [
    {
     "data": {
      "text/plain": [
       "LatentDirichletAllocation(n_jobs=-1)"
      ]
     },
     "execution_count": 28,
     "metadata": {},
     "output_type": "execute_result"
    }
   ],
   "source": [
    "lda = LDA(n_components=number_topics,n_jobs=-1)\n",
    "lda.fit(counts)"
   ]
  },
  {
   "cell_type": "code",
   "execution_count": 29,
   "metadata": {},
   "outputs": [
    {
     "name": "stdout",
     "output_type": "stream",
     "text": [
      "Topics found via LDA:\n",
      "\n",
      "Topic #0\n",
      "centre covid court delhi\n",
      "\n",
      "Topic #1\n",
      "delhi parliament metro court\n",
      "\n",
      "Topic #2\n",
      "india arrested delhi pm\n",
      "\n",
      "Topic #3\n",
      "covid police tests positive\n",
      "\n",
      "Topic #4\n",
      "delhi covid 19 cases\n",
      "\n",
      "Topic #5\n",
      "arrested covid singh parliament\n",
      "\n",
      "Topic #6\n",
      "minister delhi kangana ranaut\n",
      "\n",
      "Topic #7\n",
      "delhi chief covid minister\n",
      "\n",
      "Topic #8\n",
      "covid case delhi police\n",
      "\n",
      "Topic #9\n",
      "police man uddhav thackeray\n"
     ]
    }
   ],
   "source": [
    "print(\"Topics found via LDA:\")\n",
    "print_topics(lda,count_vec,number_words)"
   ]
  },
  {
   "cell_type": "code",
   "execution_count": null,
   "metadata": {},
   "outputs": [],
   "source": []
  },
  {
   "cell_type": "markdown",
   "metadata": {},
   "source": [
    "### Word Count for every article"
   ]
  },
  {
   "cell_type": "code",
   "execution_count": 30,
   "metadata": {},
   "outputs": [],
   "source": [
    "word_count = []\n",
    "for i in data.article:\n",
    "    cnt=len(i.split())\n",
    "    word_count.append(cnt)"
   ]
  },
  {
   "cell_type": "code",
   "execution_count": 31,
   "metadata": {},
   "outputs": [
    {
     "data": {
      "text/plain": [
       "399"
      ]
     },
     "execution_count": 31,
     "metadata": {},
     "output_type": "execute_result"
    }
   ],
   "source": [
    "len(word_count)"
   ]
  },
  {
   "cell_type": "code",
   "execution_count": 32,
   "metadata": {},
   "outputs": [
    {
     "data": {
      "text/plain": [
       "2282"
      ]
     },
     "execution_count": 32,
     "metadata": {},
     "output_type": "execute_result"
    }
   ],
   "source": [
    "max(word_count)"
   ]
  },
  {
   "cell_type": "code",
   "execution_count": 33,
   "metadata": {},
   "outputs": [
    {
     "data": {
      "image/png": "[encoded data removed]",
      "text/plain": [
       "<Figure size 432x288 with 1 Axes>"
      ]
     },
     "metadata": {
      "needs_background": "light"
     },
     "output_type": "display_data"
    }
   ],
   "source": [
    "# Average Word Count in the news articles\n",
    "plt.title(\"Average Word Count\")\n",
    "plt.hist(word_count,20,range=(0,3000),edgecolor='black')\n",
    "plt.ylabel(\"Word Count\")\n",
    "plt.show()"
   ]
  },
  {
   "cell_type": "code",
   "execution_count": 34,
   "metadata": {},
   "outputs": [
    {
     "data": {
      "image/png": "[encoded data removed]",
      "text/plain": [
       "<Figure size 432x288 with 1 Axes>"
      ]
     },
     "metadata": {
      "needs_background": "light"
     },
     "output_type": "display_data"
    }
   ],
   "source": [
    "plt.title(\"Average Word Count\")\n",
    "plt.hist(word_count,20,range=(0,1200),edgecolor='black')\n",
    "plt.ylabel(\"Word Count\")\n",
    "plt.show()"
   ]
  },
  {
   "cell_type": "code",
   "execution_count": 35,
   "metadata": {},
   "outputs": [],
   "source": [
    "word_count= np.asarray(word_count)\n",
    "avg = np.sum(word_count)/len(word_count)"
   ]
  },
  {
   "cell_type": "code",
   "execution_count": 36,
   "metadata": {},
   "outputs": [
    {
     "name": "stdout",
     "output_type": "stream",
     "text": [
      "Average Word Count: 352\n"
     ]
    }
   ],
   "source": [
    "print('Average Word Count: '+ str(int(avg)))"
   ]
  },
  {
   "cell_type": "code",
   "execution_count": null,
   "metadata": {},
   "outputs": [],
   "source": []
  },
  {
   "cell_type": "markdown",
   "metadata": {},
   "source": [
    "### Latest tags"
   ]
  },
  {
   "cell_type": "code",
   "execution_count": 37,
   "metadata": {},
   "outputs": [],
   "source": [
    "df_new = data[data['tags'].notnull()]"
   ]
  },
  {
   "cell_type": "code",
   "execution_count": 38,
   "metadata": {},
   "outputs": [],
   "source": [
    "# Creating a dictionary of tags\n",
    "tags={}\n",
    "\n",
    "for ix in df_new.tags:\n",
    "    tags_single_art=ix.split(',')\n",
    "    for t in tags_single_art:\n",
    "        if t in tags:\n",
    "            tags[t]+=1\n",
    "        else:\n",
    "            tags[t]=1  "
   ]
  },
  {
   "cell_type": "code",
   "execution_count": 39,
   "metadata": {},
   "outputs": [],
   "source": [
    "#tags"
   ]
  },
  {
   "cell_type": "code",
   "execution_count": 40,
   "metadata": {},
   "outputs": [],
   "source": [
    "tags_latest = sorted(tags,key=tags.get,reverse=True)"
   ]
  },
  {
   "cell_type": "code",
   "execution_count": 41,
   "metadata": {},
   "outputs": [
    {
     "name": "stdout",
     "output_type": "stream",
     "text": [
      "Coronavirus 37\n",
      "Delhi 24\n",
      "Parliament 15\n",
      "Madhya Pradesh 13\n",
      "Kangana Ranaut 11\n",
      "COVID-19 11\n",
      "coronavirus 10\n",
      "Arvind Kejriwal 9\n",
      "Narendra Modi 8\n",
      "Mumbai 8\n"
     ]
    }
   ],
   "source": [
    "for t in tags_latest[:10]:\n",
    "    print(t,tags[t])"
   ]
  },
  {
   "cell_type": "code",
   "execution_count": null,
   "metadata": {},
   "outputs": [],
   "source": []
  },
  {
   "cell_type": "markdown",
   "metadata": {},
   "source": [
    "### Frequent Posting Times"
   ]
  },
  {
   "cell_type": "code",
   "execution_count": 42,
   "metadata": {},
   "outputs": [],
   "source": [
    "times = data['time']"
   ]
  },
  {
   "cell_type": "code",
   "execution_count": 43,
   "metadata": {},
   "outputs": [],
   "source": [
    "times_hrs=[]\n",
    "for i in times:\n",
    "    time_0=i\n",
    "    time_0=time_0.split()\n",
    "    hr=time_0[0].split(\":\")[0]\n",
    "    hr=int(hr)\n",
    "    if time_0[1]=='pm':\n",
    "        hr+=12       \n",
    "    times_hrs.append(hr)"
   ]
  },
  {
   "cell_type": "code",
   "execution_count": 44,
   "metadata": {},
   "outputs": [
    {
     "data": {
      "image/png": "[encoded data removed]",
      "text/plain": [
       "<Figure size 432x288 with 1 Axes>"
      ]
     },
     "metadata": {
      "needs_background": "light"
     },
     "output_type": "display_data"
    }
   ],
   "source": [
    "plt.title(\"Frequent Time of Posting Articles\")\n",
    "plt.hist(times_hrs,20,range=(0,24),edgecolor='black')\n",
    "plt.ylabel(\"Time\")\n",
    "plt.show()"
   ]
  },
  {
   "cell_type": "code",
   "execution_count": null,
   "metadata": {},
   "outputs": [],
   "source": []
  },
  {
   "cell_type": "markdown",
   "metadata": {},
   "source": [
    "### Most Reported Locations"
   ]
  },
  {
   "cell_type": "code",
   "execution_count": 45,
   "metadata": {},
   "outputs": [],
   "source": [
    "locations = data[data['location'].notnull()]\n",
    "locations = locations['location']"
   ]
  },
  {
   "cell_type": "code",
   "execution_count": 46,
   "metadata": {},
   "outputs": [],
   "source": [
    "places={}\n",
    "for l in locations:\n",
    "    loc = l\n",
    "    if loc in places:\n",
    "        places[loc]+=1\n",
    "    else:\n",
    "        places[loc]=1    "
   ]
  },
  {
   "cell_type": "code",
   "execution_count": 47,
   "metadata": {},
   "outputs": [],
   "source": [
    "#places"
   ]
  },
  {
   "cell_type": "code",
   "execution_count": 48,
   "metadata": {},
   "outputs": [],
   "source": [
    "top_places = sorted(places,key=places.get,reverse=True)"
   ]
  },
  {
   "cell_type": "code",
   "execution_count": 49,
   "metadata": {},
   "outputs": [],
   "source": [
    "#top_places"
   ]
  },
  {
   "cell_type": "code",
   "execution_count": 50,
   "metadata": {},
   "outputs": [
    {
     "name": "stdout",
     "output_type": "stream",
     "text": [
      "New Delhi 200\n",
      "Mumbai 46\n",
      "Bengaluru 13\n",
      "Kolkata 13\n",
      "None 12\n",
      "Noida 12\n",
      "Chandigarh 10\n",
      "Guwahati 6\n",
      "Bhopal 6\n",
      "Patna 5\n",
      "Pune 5\n",
      "Lucknow 4\n",
      "Washington 3\n",
      "Thiruvananthapuram 3\n",
      "Srinagar 3\n",
      "Surat 3\n",
      "Bhubaneswar 3\n",
      "Raipur 2\n",
      "Hyderabad 2\n",
      "New York 2\n"
     ]
    }
   ],
   "source": [
    "for p in top_places[:20]:\n",
    "    print(p,places[p])"
   ]
  },
  {
   "cell_type": "code",
   "execution_count": null,
   "metadata": {},
   "outputs": [],
   "source": []
  },
  {
   "cell_type": "code",
   "execution_count": null,
   "metadata": {},
   "outputs": [],
   "source": []
  }
 ],
 "metadata": {
  "kernelspec": {
   "display_name": "Python 3",
   "language": "python",
   "name": "python3"
  },
  "language_info": {
   "codemirror_mode": {
    "name": "ipython",
    "version": 3
   },
   "file_extension": ".py",
   "mimetype": "text/x-python",
   "name": "python",
   "nbconvert_exporter": "python",
   "pygments_lexer": "ipython3",
   "version": "3.6.7"
  }
 },
 "nbformat": 4,
 "nbformat_minor": 4
}
